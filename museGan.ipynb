{
  "nbformat": 4,
  "nbformat_minor": 0,
  "metadata": {
    "colab": {
      "name": "museGan.ipynb",
      "version": "0.3.2",
      "provenance": [],
      "collapsed_sections": [],
      "include_colab_link": true
    },
    "kernelspec": {
      "name": "python3",
      "display_name": "Python 3"
    },
    "accelerator": "GPU"
  },
  "cells": [
    {
      "cell_type": "markdown",
      "metadata": {
        "id": "view-in-github",
        "colab_type": "text"
      },
      "source": [
        "<a href=\"https://colab.research.google.com/github/selveszero/519_music_generation/blob/master/museGan.ipynb\" target=\"_parent\"><img src=\"https://colab.research.google.com/assets/colab-badge.svg\" alt=\"Open In Colab\"/></a>"
      ]
    },
    {
      "metadata": {
        "id": "SFKbN5vR7mvw",
        "colab_type": "text"
      },
      "cell_type": "markdown",
      "source": [
        "Run the cells below in order to generate music using museGAN inference and interpolation"
      ]
    },
    {
      "metadata": {
        "id": "yy5kbWmmdVu4",
        "colab_type": "code",
        "colab": {}
      },
      "cell_type": "code",
      "source": [
        "!pip install pypianoroll\n",
        "!pip install midi2audio\n",
        "!pip install madmom\n",
        "!apt install fluidsynth\n",
        "!cp /usr/share/sounds/sf2/FluidR3_GM.sf2 ./font.sf2\n",
        "!pip install SharedArray"
      ],
      "execution_count": 0,
      "outputs": []
    },
    {
      "metadata": {
        "id": "mxcSjbOH4mnI",
        "colab_type": "code",
        "colab": {}
      },
      "cell_type": "code",
      "source": [
        "!pip install pipenv\n",
        "# # Install the dependencies\n",
        "!pipenv install --python 3.6.7\n",
        "\n",
        "\n",
        "!pipenv run pip install numpy\n",
        "!pipenv run pip install SharedArray\n",
        "!pipenv run pip install tensorflow\n",
        "!pipenv run pip install scipy\n",
        "!pipenv run pip install imageio\n",
        "!pipenv run pip install pypianoroll\n",
        "!pipenv run pip install pyyaml\n",
        "\n",
        "# # Activate the virtual environment\n",
        "# !pipenv shell"
      ],
      "execution_count": 0,
      "outputs": []
    },
    {
      "metadata": {
        "id": "DnDaMj5MuLuf",
        "colab_type": "code",
        "outputId": "81903d85-8eed-40df-e49d-f151204212d7",
        "colab": {
          "base_uri": "https://localhost:8080/",
          "height": 104
        }
      },
      "cell_type": "code",
      "source": [
        "# musegan\n",
        "!git clone https://github.com/salu133445/musegan.git"
      ],
      "execution_count": 3,
      "outputs": [
        {
          "output_type": "stream",
          "text": [
            "Cloning into 'musegan'...\n",
            "remote: Enumerating objects: 2017, done.\u001b[K\n",
            "remote: Total 2017 (delta 0), reused 0 (delta 0), pack-reused 2017\n",
            "Receiving objects: 100% (2017/2017), 73.45 MiB | 31.14 MiB/s, done.\n",
            "Resolving deltas: 100% (1000/1000), done.\n"
          ],
          "name": "stdout"
        }
      ]
    },
    {
      "metadata": {
        "id": "-nL4CdpYClXv",
        "colab_type": "code",
        "colab": {}
      },
      "cell_type": "code",
      "source": [
        "!mv musegan/* ."
      ],
      "execution_count": 0,
      "outputs": []
    },
    {
      "metadata": {
        "id": "SYdM_FDoAbaB",
        "colab_type": "code",
        "colab": {}
      },
      "cell_type": "code",
      "source": [
        "!rm -rf musegan"
      ],
      "execution_count": 0,
      "outputs": []
    },
    {
      "metadata": {
        "id": "wiPXzVQV47FK",
        "colab_type": "code",
        "colab": {}
      },
      "cell_type": "code",
      "source": [
        "# Download the training data\n",
        "!pipenv run ./scripts/download_data.sh"
      ],
      "execution_count": 0,
      "outputs": []
    },
    {
      "metadata": {
        "id": "wxIocGYXAZog",
        "colab_type": "code",
        "colab": {}
      },
      "cell_type": "code",
      "source": [
        "\n",
        "# Store the training data to shared memory\n",
        "!pipenv run ./scripts/process_data.sh"
      ],
      "execution_count": 0,
      "outputs": []
    },
    {
      "metadata": {
        "id": "VkYGiFvmB0aG",
        "colab_type": "code",
        "colab": {}
      },
      "cell_type": "code",
      "source": [
        "# set up my experiment\n",
        "# !pipenv run ./scripts/setup_exp.sh \"./exp/my_experiment_50bpm/\" \"Some notes on my experiment\""
      ],
      "execution_count": 0,
      "outputs": []
    },
    {
      "metadata": {
        "id": "n26hdUIOwr9u",
        "colab_type": "code",
        "colab": {}
      },
      "cell_type": "code",
      "source": [
        "# upload the changed config.yaml or params.yaml files and run this cell to move them to correct locations\n",
        "# !mv config.yaml \"./exp/my_experiment_50bpm/\"\n",
        "# !mv params.yaml \"./exp/my_experiment_50bpm/\""
      ],
      "execution_count": 0,
      "outputs": []
    },
    {
      "metadata": {
        "id": "gKrC69zXuO07",
        "colab_type": "code",
        "colab": {}
      },
      "cell_type": "code",
      "source": [
        "# running my experiment\n",
        "# !pipenv run ./scripts/run_exp.sh \"./exp/my_experiment_50bpm/\" \"0\""
      ],
      "execution_count": 0,
      "outputs": []
    },
    {
      "metadata": {
        "id": "3ESMqqCODvKZ",
        "colab_type": "code",
        "colab": {}
      },
      "cell_type": "code",
      "source": [
        "# downloading pretrainined models\n",
        "# if it fails to depress, rerun\n",
        "\n",
        "!pipenv run ./scripts/download_models.sh"
      ],
      "execution_count": 0,
      "outputs": []
    },
    {
      "metadata": {
        "id": "8z7vUpgc1GxM",
        "colab_type": "code",
        "colab": {}
      },
      "cell_type": "code",
      "source": [
        "# Run inference from the pretrained model\n",
        "\n",
        "!pipenv run ./scripts/run_inference.sh \"./exp/default/\" \"0\""
      ],
      "execution_count": 0,
      "outputs": []
    },
    {
      "metadata": {
        "id": "CTV2q6WD2tlF",
        "colab_type": "code",
        "colab": {}
      },
      "cell_type": "code",
      "source": [
        "# Run this cell to create the .mid version of the ouput inference files in dir\n",
        "# the final output .mid files can be found in dir\n",
        "\n",
        "from pypianoroll import Multitrack\n",
        "import os\n",
        "\n",
        "\n",
        "# dir = './exp/default/results/inference/pianorolls/fake_x_bernoulli_sampling/'\n",
        "dir = './exp/default/results/inference/pianorolls/fake_x_hard_thresholding/'\n",
        "\n",
        "for f in os.listdir(dir):\n",
        "  m = Multitrack(dir + f)\n",
        "  name = f[:-4]\n",
        "  m.write(dir + name + '.mid')"
      ],
      "execution_count": 0,
      "outputs": []
    },
    {
      "metadata": {
        "id": "lcJ39QAy_ScF",
        "colab_type": "code",
        "colab": {}
      },
      "cell_type": "code",
      "source": [
        "# Run interpolation from a pretrained model\n",
        "!pipenv run ./scripts/run_interpolation.sh \"./exp/default/\" \"0\""
      ],
      "execution_count": 0,
      "outputs": []
    },
    {
      "metadata": {
        "id": "hcbuGPku_giH",
        "colab_type": "code",
        "colab": {}
      },
      "cell_type": "code",
      "source": [
        "# Run this cell to create the .mid version of the ouput interpolation files in dir\n",
        "# the final output .mid files can be found in dir\n",
        "\n",
        "from pypianoroll import Multitrack\n",
        "import os\n",
        "\n",
        "\n",
        "# dir = './exp/default/results/interpolation/pianorolls/fake_x_bernoulli_sampling/'\n",
        "dir = './exp/default/results/interpolation/pianorolls/fake_x_hard_thresholding/'\n",
        "\n",
        "for f in os.listdir(dir):\n",
        "  m = Multitrack(dir + f)\n",
        "  name = f[:-4]\n",
        "  m.write(dir + name + '.mid')"
      ],
      "execution_count": 0,
      "outputs": []
    }
  ]
}